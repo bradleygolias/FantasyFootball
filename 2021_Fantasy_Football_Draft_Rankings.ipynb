{
 "cells": [
  {
   "cell_type": "code",
   "execution_count": 1,
   "metadata": {},
   "outputs": [
    {
     "name": "stdout",
     "output_type": "stream",
     "text": [
      "Output after reading the html:\n",
      "\n",
      "    Rank             Player Team (Bye)  POS  MFL  Fantrax  FFC  AVG\n",
      "0     1  Christian McCaffrey CAR (13)  RB1  1.0      1.0  1.0  1.0\n",
      "1     2           Dalvin Cook MIN (7)  RB2  2.0      2.0  3.0  2.3\n",
      "2     3        Derrick Henry TEN (13)  RB3  3.0      3.0  2.0  2.7\n",
      "3     4           Alvin Kamara NO (6)  RB4  4.0      4.0  4.0  4.0\n",
      "4     5       Saquon Barkley NYG (10)  RB5  5.0      5.0  9.0  6.3 \n",
      "\n",
      "Output after filtering:\n",
      "\n",
      "               Player Team (Bye)  POS  AVG\n",
      "0  Christian McCaffrey CAR (13)  RB1  1.0\n",
      "1           Dalvin Cook MIN (7)  RB2  2.3\n",
      "2        Derrick Henry TEN (13)  RB3  2.7\n",
      "3           Alvin Kamara NO (6)  RB4  4.0\n",
      "4       Saquon Barkley NYG (10)  RB5  6.3 \n",
      "\n",
      "Final output: \n",
      "\n",
      "                 PLAYER POS  AVG\n",
      "0  Christian McCaffrey  RB  1.0\n",
      "1          Dalvin Cook  RB  2.3\n",
      "2        Derrick Henry  RB  2.7\n",
      "3         Alvin Kamara  RB  4.0\n",
      "4       Saquon Barkley  RB  6.3\n"
     ]
    }
   ],
   "source": [
    "import pandas as pd; pd.set_option('display.max_rows', None)\n",
    "from bs4 import BeautifulSoup as BS\n",
    "import requests\n",
    "\n",
    "BASE_URL = \"https://www.fantasypros.com/nfl/adp/overall.php\"\n",
    "\n",
    "def make_adp_df():\n",
    "    res = requests.get(BASE_URL)\n",
    "    if res.ok:\n",
    "        soup = BS(res.content, 'html.parser')\n",
    "        table = soup.find('table', {'id': 'data'})\n",
    "        df = pd.read_html(str(table))[0]\n",
    "        print('Output after reading the html:\\n\\n', df.head(), '\\n') # so you can see the output at this point\n",
    "        df = df[['Player Team (Bye)', 'POS', 'AVG']]\n",
    "        print('Output after filtering:\\n\\n', df.head(), '\\n')\n",
    "        df['PLAYER'] = df['Player Team (Bye)'].apply(lambda x: ' '.join(x.split()[:-2])) # removing the team and position\n",
    "        df['POS'] = df['POS'].apply(lambda x: x[:2]) # removing the position rank\n",
    "        \n",
    "        df = df[['PLAYER', 'POS', 'AVG']].sort_values(by='AVG')\n",
    "        \n",
    "        print('Final output: \\n\\n', df.head())\n",
    "        \n",
    "        return df\n",
    "        \n",
    "    else:\n",
    "        print('oops, something didn\\'t work right', res.status_code)\n",
    "        \n",
    "df = make_adp_df()"
   ]
  },
  {
   "cell_type": "code",
   "execution_count": 2,
   "metadata": {},
   "outputs": [],
   "source": [
    "replacement_players = {\n",
    "    'RB': '',\n",
    "    'WR': '',\n",
    "    'TE': '',\n",
    "    'QB': ''\n",
    "}\n",
    "\n",
    "for _, row in df[:100].iterrows():\n",
    "    position = row['POS']\n",
    "    player = row['PLAYER']\n",
    "    replacement_players[position] = player\n"
   ]
  },
  {
   "cell_type": "code",
   "execution_count": 3,
   "metadata": {},
   "outputs": [
    {
     "data": {
      "text/plain": [
       "{'RB': 'Zack Moss',\n",
       " 'WR': 'Will Fuller V',\n",
       " 'TE': 'Logan Thomas',\n",
       " 'QB': 'Joe Burrow',\n",
       " 'DS': 'Pittsburgh Steelers'}"
      ]
     },
     "execution_count": 3,
     "metadata": {},
     "output_type": "execute_result"
    }
   ],
   "source": [
    "replacement_players"
   ]
  },
  {
   "cell_type": "code",
   "execution_count": 4,
   "metadata": {},
   "outputs": [
    {
     "data": {
      "text/html": [
       "<div>\n",
       "<style scoped>\n",
       "    .dataframe tbody tr th:only-of-type {\n",
       "        vertical-align: middle;\n",
       "    }\n",
       "\n",
       "    .dataframe tbody tr th {\n",
       "        vertical-align: top;\n",
       "    }\n",
       "\n",
       "    .dataframe thead th {\n",
       "        text-align: right;\n",
       "    }\n",
       "</style>\n",
       "<table border=\"1\" class=\"dataframe\">\n",
       "  <thead>\n",
       "    <tr style=\"text-align: right;\">\n",
       "      <th></th>\n",
       "      <th>PLAYER</th>\n",
       "      <th>POS</th>\n",
       "      <th>FPTS</th>\n",
       "    </tr>\n",
       "  </thead>\n",
       "  <tbody>\n",
       "    <tr>\n",
       "      <th>0</th>\n",
       "      <td>Christian McCaffrey</td>\n",
       "      <td>RB</td>\n",
       "      <td>397.8</td>\n",
       "    </tr>\n",
       "    <tr>\n",
       "      <th>0</th>\n",
       "      <td>Josh Allen</td>\n",
       "      <td>QB</td>\n",
       "      <td>378.6</td>\n",
       "    </tr>\n",
       "    <tr>\n",
       "      <th>1</th>\n",
       "      <td>Patrick Mahomes II</td>\n",
       "      <td>QB</td>\n",
       "      <td>376.4</td>\n",
       "    </tr>\n",
       "    <tr>\n",
       "      <th>2</th>\n",
       "      <td>Kyler Murray</td>\n",
       "      <td>QB</td>\n",
       "      <td>357.7</td>\n",
       "    </tr>\n",
       "    <tr>\n",
       "      <th>3</th>\n",
       "      <td>Lamar Jackson</td>\n",
       "      <td>QB</td>\n",
       "      <td>349.2</td>\n",
       "    </tr>\n",
       "  </tbody>\n",
       "</table>\n",
       "</div>"
      ],
      "text/plain": [
       "                PLAYER POS   FPTS\n",
       "0  Christian McCaffrey  RB  397.8\n",
       "0           Josh Allen  QB  378.6\n",
       "1   Patrick Mahomes II  QB  376.4\n",
       "2         Kyler Murray  QB  357.7\n",
       "3        Lamar Jackson  QB  349.2"
      ]
     },
     "execution_count": 4,
     "metadata": {},
     "output_type": "execute_result"
    }
   ],
   "source": [
    "# each position has a different associated URL. We'll create a string format here and loop through the possible positions\n",
    "BASE_URL = 'https://www.fantasypros.com/nfl/projections/{position}.php?week=draft'\n",
    "\n",
    "def make_projection_df():\n",
    "    \n",
    "    # we are going to concatenate our individual position dfs into this larger final_df\n",
    "    final_df = pd.DataFrame()\n",
    "    \n",
    "    #url has positions in lower case\n",
    "    for position in ['rb', 'qb', 'te', 'wr']:\n",
    "        \n",
    "        res = requests.get(BASE_URL.format(position=position)) # format our url with the position\n",
    "        if res.ok:\n",
    "            soup = BS(res.content, 'html.parser')\n",
    "            table = soup.find('table', {'id': 'data'})\n",
    "            df = pd.read_html(str(table))[0]\n",
    "            \n",
    "            df.columns = df.columns.droplevel(level=0) # our data has a multi-level column index. The first column level is useless so let's drop it.\n",
    "            df['PLAYER'] = df['Player'].apply(lambda x: ' '.join(x.split()[:-1])) # fixing player name to not include team\n",
    "            # if you're not doing PPR, don't include this. If you're doing Half PPR,\n",
    "            # multiply receptions * 1/2\n",
    "            if 'REC' in df.columns:\n",
    "                df['FPTS'] = df['FPTS'] + df['REC'] # add receptions if they're in there. \n",
    "            \n",
    "            df['POS'] = position.upper() # add a position column\n",
    "            \n",
    "            df = df[['PLAYER', 'POS', 'FPTS']]\n",
    "            final_df = pd.concat([final_df, df]) # iteratively add to our final_df\n",
    "        else:\n",
    "            print('oops something didn\\'t work right', res.status_code)\n",
    "            return\n",
    "    \n",
    "    final_df = final_df.sort_values(by='FPTS', ascending=False) # sort df in descending order on FPTS column\n",
    "    \n",
    "    return final_df\n",
    "            \n",
    "df = make_projection_df()\n",
    "df.head()"
   ]
  },
  {
   "cell_type": "code",
   "execution_count": 5,
   "metadata": {},
   "outputs": [
    {
     "data": {
      "text/plain": [
       "{'RB': 146.8, 'WR': 181.9, 'QB': 286.8, 'TE': 156.5}"
      ]
     },
     "execution_count": 5,
     "metadata": {},
     "output_type": "execute_result"
    }
   ],
   "source": [
    "replacement_values = {\n",
    "    'RB': 0,\n",
    "    'WR': 0,\n",
    "    'QB': 0,\n",
    "    'TE': 0\n",
    "}\n",
    "\n",
    "for position, player in replacement_players.items():\n",
    "    if position in ['QB', 'WR', 'TE', 'RB']:\n",
    "        replacement_values[position] = df.loc[df['PLAYER'] == player].values[0, -1]\n",
    "    \n",
    "replacement_values"
   ]
  },
  {
   "cell_type": "code",
   "execution_count": 6,
   "metadata": {},
   "outputs": [
    {
     "data": {
      "text/html": [
       "<div>\n",
       "<style scoped>\n",
       "    .dataframe tbody tr th:only-of-type {\n",
       "        vertical-align: middle;\n",
       "    }\n",
       "\n",
       "    .dataframe tbody tr th {\n",
       "        vertical-align: top;\n",
       "    }\n",
       "\n",
       "    .dataframe thead th {\n",
       "        text-align: right;\n",
       "    }\n",
       "</style>\n",
       "<table border=\"1\" class=\"dataframe\">\n",
       "  <thead>\n",
       "    <tr style=\"text-align: right;\">\n",
       "      <th></th>\n",
       "      <th>PLAYER</th>\n",
       "      <th>POS</th>\n",
       "      <th>FPTS</th>\n",
       "      <th>VOR</th>\n",
       "    </tr>\n",
       "  </thead>\n",
       "  <tbody>\n",
       "    <tr>\n",
       "      <th>0</th>\n",
       "      <td>Christian McCaffrey</td>\n",
       "      <td>RB</td>\n",
       "      <td>397.8</td>\n",
       "      <td>251.0</td>\n",
       "    </tr>\n",
       "    <tr>\n",
       "      <th>0</th>\n",
       "      <td>Josh Allen</td>\n",
       "      <td>QB</td>\n",
       "      <td>378.6</td>\n",
       "      <td>91.8</td>\n",
       "    </tr>\n",
       "    <tr>\n",
       "      <th>1</th>\n",
       "      <td>Patrick Mahomes II</td>\n",
       "      <td>QB</td>\n",
       "      <td>376.4</td>\n",
       "      <td>89.6</td>\n",
       "    </tr>\n",
       "    <tr>\n",
       "      <th>2</th>\n",
       "      <td>Kyler Murray</td>\n",
       "      <td>QB</td>\n",
       "      <td>357.7</td>\n",
       "      <td>70.9</td>\n",
       "    </tr>\n",
       "    <tr>\n",
       "      <th>3</th>\n",
       "      <td>Lamar Jackson</td>\n",
       "      <td>QB</td>\n",
       "      <td>349.2</td>\n",
       "      <td>62.4</td>\n",
       "    </tr>\n",
       "  </tbody>\n",
       "</table>\n",
       "</div>"
      ],
      "text/plain": [
       "                PLAYER POS   FPTS    VOR\n",
       "0  Christian McCaffrey  RB  397.8  251.0\n",
       "0           Josh Allen  QB  378.6   91.8\n",
       "1   Patrick Mahomes II  QB  376.4   89.6\n",
       "2         Kyler Murray  QB  357.7   70.9\n",
       "3        Lamar Jackson  QB  349.2   62.4"
      ]
     },
     "execution_count": 6,
     "metadata": {},
     "output_type": "execute_result"
    }
   ],
   "source": [
    "df['VOR'] = df.apply(\n",
    "    lambda row: row['FPTS'] - replacement_values.get(row['POS']), axis=1\n",
    ")\n",
    "df.head()\n"
   ]
  },
  {
   "cell_type": "code",
   "execution_count": 8,
   "metadata": {},
   "outputs": [],
   "source": [
    "df = df.sort_values(by='VOR', ascending=False)\n",
    "df['VALUERANK'] = df['VOR'].rank(ascending=False)\n",
    "df.head(200)\n",
    "df.to_csv(r'C:\\Users\\bradl\\Desktop\\\\2021_Fantasy_Football_Rankings.csv')"
   ]
  },
  {
   "cell_type": "code",
   "execution_count": null,
   "metadata": {},
   "outputs": [],
   "source": []
  }
 ],
 "metadata": {
  "kernelspec": {
   "display_name": "Python 3",
   "language": "python",
   "name": "python3"
  },
  "language_info": {
   "codemirror_mode": {
    "name": "ipython",
    "version": 3
   },
   "file_extension": ".py",
   "mimetype": "text/x-python",
   "name": "python",
   "nbconvert_exporter": "python",
   "pygments_lexer": "ipython3",
   "version": "3.8.8"
  }
 },
 "nbformat": 4,
 "nbformat_minor": 2
}
